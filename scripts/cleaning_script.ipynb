{
 "cells": [
  {
   "cell_type": "code",
   "execution_count": 2,
   "id": "2df1deb6-8225-44b8-89d0-299b43aaae74",
   "metadata": {},
   "outputs": [],
   "source": [
    "import pandas as pd\n",
    "df = pd.read_csv('RS.csv', low_memory=False)\n",
    "#Formateo de las columnas\n",
    "df.columns = [col.replace(' ', '_').lower() for col in df.columns]"
   ]
  },
  {
   "cell_type": "markdown",
   "id": "94c6404b-655a-45b5-bd45-2dc1522004ce",
   "metadata": {},
   "source": [
    "#Cambio de formato y eliminacion de valores faltantes\n",
    "Se reformateo la columna data_recorded y elimino dos filas que estaba inexistente "
   ]
  },
  {
   "cell_type": "code",
   "execution_count": 3,
   "id": "5b03dd6b-8473-427d-9761-b4d24fb237da",
   "metadata": {},
   "outputs": [],
   "source": [
    "df['date_recorded'] = pd.to_datetime(df['date_recorded'])\n",
    "df.dropna(subset=['date_recorded'], axis = 0, inplace = True)"
   ]
  },
  {
   "cell_type": "markdown",
   "id": "3a782ba3-9361-4e5d-94aa-1bed847c82a6",
   "metadata": {},
   "source": [
    "Antes de hacer un analisis, se elimino las propiedades que no iban acorde al objetivo "
   ]
  },
  {
   "cell_type": "code",
   "execution_count": 4,
   "id": "27d5b6e9-af6f-4b43-9967-045ce1f124f2",
   "metadata": {},
   "outputs": [
    {
     "data": {
      "text/plain": [
       "property_type\n",
       "Single Family     401612\n",
       "Residential       151064\n",
       "Condo             105420\n",
       "Two Family         26408\n",
       "Three Family       12586\n",
       "Vacant Land         7824\n",
       "Commercial          5987\n",
       "Four Family         2150\n",
       "Apartments          1327\n",
       "Industrial           795\n",
       "Public Utility        10\n",
       "Name: count, dtype: int64"
      ]
     },
     "execution_count": 4,
     "metadata": {},
     "output_type": "execute_result"
    }
   ],
   "source": [
    "df['property_type'].value_counts()"
   ]
  },
  {
   "cell_type": "code",
   "execution_count": 5,
   "id": "e1b3d682-19ff-4189-8ca3-4adfda28aaf4",
   "metadata": {},
   "outputs": [],
   "source": [
    "#mascara de busqueda\n",
    "sought_values = [ 'Public Utility', 'Commercial', 'Vacant Land' , 'Industrial', 'Apartments' ]\n",
    "mask = df['property_type'].isin(sought_values)\n",
    "\n",
    "# Eliminar las filas que cumplen la condición \n",
    "filtered_df = df.drop(df[mask].index, inplace = True)"
   ]
  },
  {
   "cell_type": "markdown",
   "id": "b7f45687-f223-441b-9d88-7e878cd7c75d",
   "metadata": {},
   "source": [
    "Estas propiedades no son validas para un analisis de propiedades recidenciales, ya que no se clasifican como tal     "
   ]
  },
  {
   "cell_type": "markdown",
   "id": "59ba34c0-1764-403b-baa9-3ea3f7091366",
   "metadata": {},
   "source": [
    "Se eliminaron los valores de Non use Code, ya podrian sesgar los datos, muchos de esos codigo refrejan transaciones no reales, las cuales podrian\n",
    "llevanos a conclusiones erroneas "
   ]
  },
  {
   "cell_type": "code",
   "execution_count": 6,
   "id": "085b149e-8306-4095-b246-1105f2907d1c",
   "metadata": {},
   "outputs": [],
   "source": [
    "#Eliminacion de filas y columnas \n",
    "df = df.drop(df[~df[\"non_use_code\"].isnull()].index) \n",
    "df = df.drop(\"non_use_code\", axis = 1)"
   ]
  },
  {
   "cell_type": "markdown",
   "id": "15400aad-8d3d-4794-9570-833f3123a5f1",
   "metadata": {},
   "source": [
    "Evaluamos la cantidad de propiedades y podemos notar que existe un dato llamado 'Residential'"
   ]
  },
  {
   "cell_type": "code",
   "execution_count": 7,
   "id": "088a7ac6-b2fb-4e6e-800d-cc00a7e2193e",
   "metadata": {},
   "outputs": [
    {
     "data": {
      "text/plain": [
       "property_type\n",
       "Single Family    279934\n",
       "Residential      120534\n",
       "Condo             77097\n",
       "Two Family        13493\n",
       "Three Family       5818\n",
       "Four Family        1085\n",
       "Name: count, dtype: int64"
      ]
     },
     "execution_count": 7,
     "metadata": {},
     "output_type": "execute_result"
    }
   ],
   "source": [
    "df['property_type'].value_counts()"
   ]
  },
  {
   "cell_type": "markdown",
   "id": "6c78f68d-241b-463a-8990-80211b94d9b1",
   "metadata": {},
   "source": [
    "De manera visual podemos ver que en el residential_type nos especifica que tipo de propiedad es "
   ]
  },
  {
   "cell_type": "code",
   "execution_count": 8,
   "id": "3ee0ab49-d4c2-45f6-b9ea-e1d28d754dc8",
   "metadata": {},
   "outputs": [
    {
     "data": {
      "text/html": [
       "<div>\n",
       "<style scoped>\n",
       "    .dataframe tbody tr th:only-of-type {\n",
       "        vertical-align: middle;\n",
       "    }\n",
       "\n",
       "    .dataframe tbody tr th {\n",
       "        vertical-align: top;\n",
       "    }\n",
       "\n",
       "    .dataframe thead th {\n",
       "        text-align: right;\n",
       "    }\n",
       "</style>\n",
       "<table border=\"1\" class=\"dataframe\">\n",
       "  <thead>\n",
       "    <tr style=\"text-align: right;\">\n",
       "      <th></th>\n",
       "      <th>serial_number</th>\n",
       "      <th>list_year</th>\n",
       "      <th>date_recorded</th>\n",
       "      <th>town</th>\n",
       "      <th>address</th>\n",
       "      <th>assessed_value</th>\n",
       "      <th>sale_amount</th>\n",
       "      <th>sales_ratio</th>\n",
       "      <th>property_type</th>\n",
       "      <th>residential_type</th>\n",
       "      <th>assessor_remarks</th>\n",
       "      <th>opm_remarks</th>\n",
       "      <th>location</th>\n",
       "    </tr>\n",
       "  </thead>\n",
       "  <tbody>\n",
       "    <tr>\n",
       "      <th>94800</th>\n",
       "      <td>210429</td>\n",
       "      <td>2021</td>\n",
       "      <td>2022-06-27</td>\n",
       "      <td>Newington</td>\n",
       "      <td>148 CHURCHILL DR</td>\n",
       "      <td>100270.0</td>\n",
       "      <td>205000.0</td>\n",
       "      <td>0.48910</td>\n",
       "      <td>Residential</td>\n",
       "      <td>Condo</td>\n",
       "      <td>NaN</td>\n",
       "      <td>NaN</td>\n",
       "      <td>POINT (-72.718352001 41.677475)</td>\n",
       "    </tr>\n",
       "    <tr>\n",
       "      <th>106791</th>\n",
       "      <td>210906</td>\n",
       "      <td>2021</td>\n",
       "      <td>2022-06-15</td>\n",
       "      <td>Southington</td>\n",
       "      <td>632 OVERLOOK PATH</td>\n",
       "      <td>179100.0</td>\n",
       "      <td>355000.0</td>\n",
       "      <td>0.50450</td>\n",
       "      <td>Residential</td>\n",
       "      <td>Condo</td>\n",
       "      <td>NaN</td>\n",
       "      <td>NaN</td>\n",
       "      <td>POINT (-72.862565998 41.599884979)</td>\n",
       "    </tr>\n",
       "    <tr>\n",
       "      <th>1094904</th>\n",
       "      <td>220095</td>\n",
       "      <td>2022</td>\n",
       "      <td>2023-02-21</td>\n",
       "      <td>Rocky Hill</td>\n",
       "      <td>207 HOLLY HILL DRIVE</td>\n",
       "      <td>144340.0</td>\n",
       "      <td>246000.0</td>\n",
       "      <td>0.58670</td>\n",
       "      <td>Residential</td>\n",
       "      <td>Condo</td>\n",
       "      <td>NaN</td>\n",
       "      <td>NaN</td>\n",
       "      <td>POINT (-72.702720004 41.663075016)</td>\n",
       "    </tr>\n",
       "    <tr>\n",
       "      <th>80171</th>\n",
       "      <td>210172</td>\n",
       "      <td>2021</td>\n",
       "      <td>2021-11-16</td>\n",
       "      <td>Hamden</td>\n",
       "      <td>2480 WHITNEY AVE U27</td>\n",
       "      <td>105560.0</td>\n",
       "      <td>195000.0</td>\n",
       "      <td>0.54130</td>\n",
       "      <td>Residential</td>\n",
       "      <td>Condo</td>\n",
       "      <td>NaN</td>\n",
       "      <td>NaN</td>\n",
       "      <td>POINT (-72.902021964 41.387668979)</td>\n",
       "    </tr>\n",
       "    <tr>\n",
       "      <th>89471</th>\n",
       "      <td>210891</td>\n",
       "      <td>2021</td>\n",
       "      <td>2022-02-03</td>\n",
       "      <td>Bridgeport</td>\n",
       "      <td>221 GODDARD AVE #223</td>\n",
       "      <td>194910.0</td>\n",
       "      <td>410000.0</td>\n",
       "      <td>0.47539</td>\n",
       "      <td>Residential</td>\n",
       "      <td>Three Family</td>\n",
       "      <td>NaN</td>\n",
       "      <td>NaN</td>\n",
       "      <td>POINT (-73.176883009 41.200257)</td>\n",
       "    </tr>\n",
       "  </tbody>\n",
       "</table>\n",
       "</div>"
      ],
      "text/plain": [
       "         serial_number  list_year date_recorded         town  \\\n",
       "94800           210429       2021    2022-06-27    Newington   \n",
       "106791          210906       2021    2022-06-15  Southington   \n",
       "1094904         220095       2022    2023-02-21   Rocky Hill   \n",
       "80171           210172       2021    2021-11-16       Hamden   \n",
       "89471           210891       2021    2022-02-03   Bridgeport   \n",
       "\n",
       "                      address  assessed_value  sale_amount  sales_ratio  \\\n",
       "94800        148 CHURCHILL DR        100270.0     205000.0      0.48910   \n",
       "106791      632 OVERLOOK PATH        179100.0     355000.0      0.50450   \n",
       "1094904  207 HOLLY HILL DRIVE        144340.0     246000.0      0.58670   \n",
       "80171    2480 WHITNEY AVE U27        105560.0     195000.0      0.54130   \n",
       "89471    221 GODDARD AVE #223        194910.0     410000.0      0.47539   \n",
       "\n",
       "        property_type residential_type assessor_remarks opm_remarks  \\\n",
       "94800     Residential            Condo              NaN         NaN   \n",
       "106791    Residential            Condo              NaN         NaN   \n",
       "1094904   Residential            Condo              NaN         NaN   \n",
       "80171     Residential            Condo              NaN         NaN   \n",
       "89471     Residential     Three Family              NaN         NaN   \n",
       "\n",
       "                                   location  \n",
       "94800       POINT (-72.718352001 41.677475)  \n",
       "106791   POINT (-72.862565998 41.599884979)  \n",
       "1094904  POINT (-72.702720004 41.663075016)  \n",
       "80171    POINT (-72.902021964 41.387668979)  \n",
       "89471       POINT (-73.176883009 41.200257)  "
      ]
     },
     "execution_count": 8,
     "metadata": {},
     "output_type": "execute_result"
    }
   ],
   "source": [
    "df[df['property_type'] == 'Residential'].sample(5)"
   ]
  },
  {
   "cell_type": "markdown",
   "id": "25e21f5c-c521-4e93-850d-1985e02c831a",
   "metadata": {},
   "source": [
    "Podemos ver que valores estan relacionados, tranformando los valores de Residential a sus correspondiente en tipo de residencia "
   ]
  },
  {
   "cell_type": "code",
   "execution_count": 9,
   "id": "5b187c4c-f23a-4c99-ba27-22dded1e8cd2",
   "metadata": {
    "scrolled": true
   },
   "outputs": [
    {
     "data": {
      "text/plain": [
       "property_type  residential_type\n",
       "Condo          Condo                77097\n",
       "Four Family    Four Family           1085\n",
       "Residential    Condo                26285\n",
       "               Four Family            617\n",
       "               Single Family        83957\n",
       "               Three Family          3108\n",
       "               Two Family            6567\n",
       "Single Family  Single Family       279934\n",
       "Three Family   Three Family          5818\n",
       "Two Family     Two Family           13493\n",
       "dtype: int64"
      ]
     },
     "execution_count": 9,
     "metadata": {},
     "output_type": "execute_result"
    }
   ],
   "source": [
    "df.groupby(['property_type', 'residential_type']).size()"
   ]
  },
  {
   "cell_type": "code",
   "execution_count": 11,
   "id": "077a488b-1114-4964-97be-5c748c860285",
   "metadata": {},
   "outputs": [
    {
     "name": "stdout",
     "output_type": "stream",
     "text": [
      "<class 'pandas.core.frame.DataFrame'>\n",
      "Index: 497960 entries, 0 to 1097627\n",
      "Data columns (total 13 columns):\n",
      " #   Column            Non-Null Count   Dtype         \n",
      "---  ------            --------------   -----         \n",
      " 0   serial_number     497960 non-null  int64         \n",
      " 1   list_year         497960 non-null  int64         \n",
      " 2   date_recorded     497960 non-null  datetime64[ns]\n",
      " 3   town              497960 non-null  object        \n",
      " 4   address           497960 non-null  object        \n",
      " 5   assessed_value    497960 non-null  float64       \n",
      " 6   sale_amount       497960 non-null  float64       \n",
      " 7   sales_ratio       497960 non-null  float64       \n",
      " 8   property_type     497960 non-null  object        \n",
      " 9   residential_type  497960 non-null  object        \n",
      " 10  assessor_remarks  37626 non-null   object        \n",
      " 11  opm_remarks       2088 non-null    object        \n",
      " 12  location          159579 non-null  object        \n",
      "dtypes: datetime64[ns](1), float64(3), int64(2), object(7)\n",
      "memory usage: 53.2+ MB\n"
     ]
    }
   ],
   "source": [
    "#Eliminar valores NaN\n",
    "df.dropna(subset=['property_type', 'address'  ], axis = 0, inplace = True)"
   ]
  },
  {
   "cell_type": "code",
   "execution_count": 21,
   "id": "cc171c9a-62b8-4bc1-8af0-6af40ab9bffa",
   "metadata": {},
   "outputs": [
    {
     "data": {
      "text/plain": [
       "np.float64(0.0)"
      ]
     },
     "execution_count": 21,
     "metadata": {},
     "output_type": "execute_result"
    }
   ],
   "source": [
    "df['assessed_value'].min()"
   ]
  },
  {
   "cell_type": "code",
   "execution_count": null,
   "id": "86fe52c3-be4d-4383-b683-5421fef34a69",
   "metadata": {},
   "outputs": [],
   "source": []
  }
 ],
 "metadata": {
  "kernelspec": {
   "display_name": "Python 3 (ipykernel)",
   "language": "python",
   "name": "python3"
  },
  "language_info": {
   "codemirror_mode": {
    "name": "ipython",
    "version": 3
   },
   "file_extension": ".py",
   "mimetype": "text/x-python",
   "name": "python",
   "nbconvert_exporter": "python",
   "pygments_lexer": "ipython3",
   "version": "3.13.3"
  }
 },
 "nbformat": 4,
 "nbformat_minor": 5
}
